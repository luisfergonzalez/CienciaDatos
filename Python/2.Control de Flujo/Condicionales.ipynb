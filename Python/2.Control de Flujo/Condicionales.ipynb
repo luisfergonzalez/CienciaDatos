{
 "cells": [
  {
   "cell_type": "code",
   "execution_count": 4,
   "metadata": {},
   "outputs": [
    {
     "name": "stdout",
     "output_type": "stream",
     "text": [
      "menor de edad\n"
     ]
    }
   ],
   "source": [
    "edadAlumno= 17\n",
    "if edadAlumno >= 18:\n",
    "    print(\"mayor de edad\")\n",
    "else:\n",
    "        print(\"menor de edad\")\n",
    "    \n"
   ]
  },
  {
   "cell_type": "code",
   "execution_count": 28,
   "metadata": {},
   "outputs": [
    {
     "name": "stdout",
     "output_type": "stream",
     "text": [
      "es mayor de edad y es mujer\n"
     ]
    }
   ],
   "source": [
    "generoAlumno=\"F\"\n",
    "edadAlumno= 18\n",
    "if edadAlumno >=18:\n",
    "    if generoAlumno ==\"F\":\n",
    "        print(\"es mayor de edad y es mujer\")\n",
    "    else:\n",
    "        print(\"es mayor de edad pero no es mujer\")\n",
    "else:\n",
    "    print:(\"es menor de edad\")"
   ]
  },
  {
   "cell_type": "code",
   "execution_count": 27,
   "metadata": {},
   "outputs": [
    {
     "name": "stdout",
     "output_type": "stream",
     "text": [
      "es mayor de edad, es mujer y vive en: medellinsu genero: F\n"
     ]
    }
   ],
   "source": [
    "generoAlumno=\"F\"\n",
    "edadAlumno= 18\n",
    "municipio=\"medellin\"\n",
    "if edadAlumno >=18 and generoAlumno==\"F\" or municipio==\" medellin\":\n",
    "    print(\"es mayor de edad, es mujer y vive en: \"+ str(municipio) + \"su genero: \"+generoAlumno)      \n",
    "else:\n",
    "    print:(\"es menor de edad\")"
   ]
  },
  {
   "cell_type": "code",
   "execution_count": 20,
   "metadata": {},
   "outputs": [
    {
     "name": "stdout",
     "output_type": "stream",
     "text": [
      "0\n",
      "1\n",
      "2\n",
      "3\n",
      "4\n",
      "5\n",
      "6\n",
      "7\n",
      "8\n",
      "9\n",
      "10\n"
     ]
    }
   ],
   "source": [
    "contador = 0\n",
    "while contador <= 10:\n",
    "    print(contador)\n",
    "    contador +=1"
   ]
  },
  {
   "cell_type": "code",
   "execution_count": 32,
   "metadata": {},
   "outputs": [
    {
     "name": "stdout",
     "output_type": "stream",
     "text": [
      "1\n",
      "2\n",
      "3\n",
      "4\n",
      "5\n",
      "7\n",
      "8\n",
      "9\n",
      "10\n",
      "11\n"
     ]
    }
   ],
   "source": [
    "listaNumeros=[1,2,3,4,5,7,8,9,10,11]\n",
    "for numero in listaNumeros:\n",
    "    print(numero)"
   ]
  },
  {
   "cell_type": "code",
   "execution_count": 48,
   "metadata": {},
   "outputs": [
    {
     "name": "stdout",
     "output_type": "stream",
     "text": [
      "el numero impar y es:1\n",
      "el numero es par y es el: 2\n",
      "el numero impar y es:3\n",
      "el numero es par y es el: 4\n",
      "el numero impar y es:5\n",
      "el numero es divisible por 5 y es:5\n",
      "el numero impar y es:7\n",
      "el numero es par y es el: 8\n",
      "el numero impar y es:9\n",
      "el numero es par y es el: 10\n",
      "el numero es divisible por 5 y es:10\n",
      "el numero impar y es:11\n"
     ]
    }
   ],
   "source": [
    "for numero in listaNumeros:\n",
    "    if numero % 2 == 0:\n",
    "        print(\"el numero es par y es el: \"+ str(numero))\n",
    "    if numero % 2 != 0:\n",
    "              print(\"el numero impar y es:\"+ str(numero))\n",
    "    if numero % 5 ==0:\n",
    "              print (\"el numero es divisible por 5 y es:\" + str(numero))\n",
    "              \n",
    "    "
   ]
  },
  {
   "cell_type": "markdown",
   "metadata": {},
   "source": [
    "# continue"
   ]
  },
  {
   "cell_type": "code",
   "execution_count": 50,
   "metadata": {},
   "outputs": [
    {
     "name": "stdout",
     "output_type": "stream",
     "text": [
      "1\n",
      "3\n",
      "5\n",
      "7\n",
      "9\n",
      "11\n"
     ]
    }
   ],
   "source": [
    "for numero in listaNumeros:\n",
    "    if numero %2==0:\n",
    "        continue\n",
    "    else:\n",
    "        print(numero)"
   ]
  },
  {
   "cell_type": "markdown",
   "metadata": {},
   "source": [
    "# break"
   ]
  },
  {
   "cell_type": "code",
   "execution_count": 51,
   "metadata": {},
   "outputs": [
    {
     "name": "stdout",
     "output_type": "stream",
     "text": [
      "1\n",
      "2\n"
     ]
    }
   ],
   "source": [
    "for numero in listaNumeros:\n",
    "    if numero %3 ==0:\n",
    "        break\n",
    "    else:\n",
    "        print(numero)"
   ]
  },
  {
   "cell_type": "markdown",
   "metadata": {
    "collapsed": true
   },
   "source": [
    "n=2\n",
    "i=1\n",
    "divisor=1\n",
    "primo=False\n",
    "\n",
    "while n<=i:\n",
    "    if n% i==0:\n",
    "        divisor= divisor+1\n",
    "    i=i+1\n",
    "if divisor == 2:\n",
    "    primo = True\n",
    "if primo == True:\n",
    "    print(\"el numero es un numero primo y el numero es: \"+ str(n))\n",
    "else:\n",
    "    print (\"no es primo: \"+ str(n))\n"
   ]
  },
  {
   "cell_type": "code",
   "execution_count": 10,
   "metadata": {
    "collapsed": true
   },
   "outputs": [],
   "source": [
    "def NumeroPrimo (numero):\n",
    "    if numero <= 2:\n",
    "        print (\"por favor ingrese un numero mayor a 2\")\n",
    "        return\n",
    "    ndiv = 0\n",
    "    for i in range (1, numero+1):\n",
    "        if (numero % i==0):\n",
    "            ndiv=ndiv+1\n",
    "        if (ndiv!=2):\n",
    "            print(\"no es primo\")\n",
    "        if (ndiv==2):\n",
    "            print (\"es primo\")"
   ]
  },
  {
   "cell_type": "code",
   "execution_count": 11,
   "metadata": {},
   "outputs": [
    {
     "name": "stdout",
     "output_type": "stream",
     "text": [
      "no es primo\n",
      "no es primo\n",
      "no es primo\n",
      "no es primo\n",
      "no es primo\n",
      "no es primo\n",
      "es primo\n"
     ]
    }
   ],
   "source": [
    "NumeroPrimo(7)"
   ]
  },
  {
   "cell_type": "markdown",
   "metadata": {},
   "source": [
    "# Funcion con parametros de lista"
   ]
  },
  {
   "cell_type": "code",
   "execution_count": 15,
   "metadata": {},
   "outputs": [
    {
     "name": "stdout",
     "output_type": "stream",
     "text": [
      "2\n",
      "3\n",
      "donald\n",
      "True\n"
     ]
    }
   ],
   "source": [
    "def mifuncionLista(lista):\n",
    "    for elemento in lista:\n",
    "        print (elemento)\n",
    "miLista =  [2,3,\"donald\",True]\n",
    "mifuncionLista(miLista)"
   ]
  },
  {
   "cell_type": "code",
   "execution_count": 18,
   "metadata": {},
   "outputs": [
    {
     "data": {
      "text/plain": [
       "9.142857142857142"
      ]
     },
     "execution_count": 18,
     "metadata": {},
     "output_type": "execute_result"
    }
   ],
   "source": [
    "def promedio (listavalores):\n",
    "    suma = 0\n",
    "    for numero in listavalores:\n",
    "        suma += numero\n",
    "    division = suma / len(listavalores)\n",
    "    return division     \n",
    "        \n",
    "listaProm =  [2,3,5,6,8,14,26]\n",
    "promedio(listaProm)"
   ]
  },
  {
   "cell_type": "code",
   "execution_count": 19,
   "metadata": {},
   "outputs": [
    {
     "data": {
      "text/plain": [
       "9.142857142857142"
      ]
     },
     "execution_count": 19,
     "metadata": {},
     "output_type": "execute_result"
    }
   ],
   "source": [
    "def prom (valores):\n",
    "    return sum (valores)/len(valores)\n",
    "valores=[2,3,5,6,8,14,26]\n",
    "prom (valores)"
   ]
  },
  {
   "cell_type": "code",
   "execution_count": 20,
   "metadata": {},
   "outputs": [
    {
     "name": "stdout",
     "output_type": "stream",
     "text": [
      "1\n",
      "2\n",
      "3\n",
      "4\n",
      "5\n",
      "6\n",
      "8\n"
     ]
    }
   ],
   "source": [
    "def parametrosNoDeterminados(*args):\n",
    "    for elemento in args:\n",
    "        print (elemento)\n",
    "parametrosNoDeterminados(1,2,3,4,5,6,8)"
   ]
  },
  {
   "cell_type": "code",
   "execution_count": 21,
   "metadata": {},
   "outputs": [
    {
     "name": "stdout",
     "output_type": "stream",
     "text": [
      "(2, 6, 10, 5, 17)\n",
      "[2, 5, 6, 10, 17]\n"
     ]
    }
   ],
   "source": [
    "listaDesordenada=(2,6,10,5,17)\n",
    "print(listaDesordenada)\n",
    "print(sorted(listaDesordenada))"
   ]
  },
  {
   "cell_type": "raw",
   "metadata": {},
   "source": [
    "de"
   ]
  },
  {
   "cell_type": "code",
   "execution_count": 29,
   "metadata": {},
   "outputs": [
    {
     "name": "stdout",
     "output_type": "stream",
     "text": [
      "[1, 4, 6, 7, 2, 3, 4, 7, 1, 2, 4, 3, 4, 5, 6, 5, 2, 3, 1, 2, 5, 6, 7, 3, 4, 1, 5, 7, 4, 5, 3, 4, 5, 6, 5, 4, 6, 5, 6, 5, 1, 7]\n"
     ]
    },
    {
     "ename": "TypeError",
     "evalue": "list indices must be integers or slices, not float",
     "output_type": "error",
     "traceback": [
      "\u001b[1;31m---------------------------------------------------------------------------\u001b[0m",
      "\u001b[1;31mTypeError\u001b[0m                                 Traceback (most recent call last)",
      "\u001b[1;32m<ipython-input-29-d65adb160f55>\u001b[0m in \u001b[0;36m<module>\u001b[1;34m()\u001b[0m\n\u001b[0;32m      9\u001b[0m \u001b[0mmitad\u001b[0m\u001b[1;33m=\u001b[0m\u001b[0mn\u001b[0m\u001b[1;33m/\u001b[0m\u001b[1;36m2\u001b[0m\u001b[1;33m\u001b[0m\u001b[0m\n\u001b[0;32m     10\u001b[0m \u001b[1;32mif\u001b[0m \u001b[0mn\u001b[0m\u001b[1;33m%\u001b[0m\u001b[1;36m2\u001b[0m\u001b[1;33m==\u001b[0m\u001b[1;36m0\u001b[0m\u001b[1;33m:\u001b[0m\u001b[1;33m\u001b[0m\u001b[0m\n\u001b[1;32m---> 11\u001b[1;33m     \u001b[0mmediana\u001b[0m\u001b[1;33m=\u001b[0m\u001b[1;33m(\u001b[0m\u001b[0mlistaOrdenada\u001b[0m\u001b[1;33m[\u001b[0m\u001b[0mmitad\u001b[0m\u001b[1;33m+\u001b[0m\u001b[1;36m1\u001b[0m\u001b[1;33m]\u001b[0m \u001b[1;33m+\u001b[0m \u001b[0mlistaOrdenada\u001b[0m\u001b[1;33m[\u001b[0m\u001b[0mmitad\u001b[0m\u001b[1;33m+\u001b[0m\u001b[1;36m2\u001b[0m\u001b[1;33m]\u001b[0m\u001b[1;33m)\u001b[0m \u001b[1;33m/\u001b[0m \u001b[1;36m2\u001b[0m\u001b[1;33m\u001b[0m\u001b[0m\n\u001b[0m\u001b[0;32m     12\u001b[0m \u001b[1;32melse\u001b[0m\u001b[1;33m:\u001b[0m\u001b[1;33m\u001b[0m\u001b[0m\n\u001b[0;32m     13\u001b[0m     \u001b[0mmediana\u001b[0m\u001b[1;33m=\u001b[0m\u001b[0mlistaOrdenada\u001b[0m\u001b[1;33m[\u001b[0m\u001b[0mmitad\u001b[0m\u001b[1;33m+\u001b[0m\u001b[1;36m1\u001b[0m\u001b[1;33m]\u001b[0m\u001b[1;33m*\u001b[0m\u001b[1;36m1\u001b[0m\u001b[1;33m\u001b[0m\u001b[0m\n",
      "\u001b[1;31mTypeError\u001b[0m: list indices must be integers or slices, not float"
     ]
    }
   ],
   "source": [
    "\n",
    "lista=[1,4,6,7,2,3,4,7,1,2,4,3,4,5,\n",
    "      6,5,2,3,1,2,5,6,7,3,4,1,5,7,\n",
    "       4,5,3,4,5,6,5,4,6,5,6,5,1,7]\n",
    "print (lista)\n",
    "listaOrdenada=sorted(lista)\n",
    "\n",
    "n=len(listaOrdenada)\n",
    "mitad=n/2\n",
    "if n%2==0:\n",
    "    mediana=(listaOrdenada[mitad+1] + listaOrdenada[mitad+2]) / 2\n",
    "else:\n",
    "    mediana=listaOrdenada[mitad+1]*1\n",
    "\n",
    "print (\"Total datos\"+ str(n))\n",
    "print (\"Mediana: \"+ str( mediana))"
   ]
  },
  {
   "cell_type": "code",
   "execution_count": 1,
   "metadata": {},
   "outputs": [
    {
     "data": {
      "text/plain": [
       "12"
      ]
     },
     "execution_count": 1,
     "metadata": {},
     "output_type": "execute_result"
    }
   ],
   "source": [
    "def funcionsumar(numero1, numero2):\n",
    "    return numero1 + numero2\n",
    "\n",
    "funcionsumar(5,7)\n"
   ]
  },
  {
   "cell_type": "code",
   "execution_count": 2,
   "metadata": {},
   "outputs": [
    {
     "data": {
      "text/plain": [
       "12877577"
      ]
     },
     "execution_count": 2,
     "metadata": {},
     "output_type": "execute_result"
    }
   ],
   "source": [
    "funcionsumar(12223232,654345)"
   ]
  },
  {
   "cell_type": "code",
   "execution_count": 16,
   "metadata": {},
   "outputs": [
    {
     "name": "stdout",
     "output_type": "stream",
     "text": [
      "las listas son iguales\n"
     ]
    }
   ],
   "source": [
    "def funcioncompararlista(lista1, lista2):\n",
    "    largolista1 = len(lista1)\n",
    "    largolista2 = len(lista2)\n",
    "    if largolista1 >largolista2:\n",
    "        print (\"la lista 1 es la mas larga\")\n",
    "    elif largolista1 == largolista2:\n",
    "        print (\"las listas son iguales\")\n",
    "    else:\n",
    "        print(\"la lista 2 es la mas larga\")\n",
    "\n",
    "List=[1,23,4,5,7]\n",
    "list2=[1,23,4,34,6]\n",
    "  \n",
    "funcioncompararlista(List,list2)"
   ]
  },
  {
   "cell_type": "code",
   "execution_count": null,
   "metadata": {
    "collapsed": true
   },
   "outputs": [],
   "source": [
    "def mediana(listaOrdenada):\n",
    "    listaOrd = sorted(listaOrdenada)\n",
    "    numeroDatosLista = len (listaOrd)\n",
    "    Mitad= numeroDatosLista / 2\n",
    "    if mitad % 2 == 0:\n",
    "        "
   ]
  },
  {
   "cell_type": "code",
   "execution_count": 30,
   "metadata": {},
   "outputs": [
    {
     "name": "stdout",
     "output_type": "stream",
     "text": [
      "sobrepeso grado 1\n"
     ]
    }
   ],
   "source": [
    "def Funcion_imc (peso,altura):\n",
    "    imc = peso/(altura*altura)\n",
    "    if 25 >= imc >= 18:\n",
    "        print (\"peso saludable\")\n",
    "    elif 29 >= imc >= 26:\n",
    "        print (\"sobrepeso grado 1\")\n",
    "    elif 35 >= imc >= 30:\n",
    "        print (\"Sobrepeso grado 2\")\n",
    "    else:\n",
    "        print (\"muy severo\")\n",
    "Funcion_imc (76,1.70)"
   ]
  },
  {
   "cell_type": "code",
   "execution_count": 34,
   "metadata": {},
   "outputs": [
    {
     "name": "stdout",
     "output_type": "stream",
     "text": [
      "0\n",
      "1\n",
      "2\n",
      "3\n",
      "4\n"
     ]
    }
   ],
   "source": [
    "for desde in range (0,5):\n",
    "    print (desde)"
   ]
  },
  {
   "cell_type": "code",
   "execution_count": 35,
   "metadata": {},
   "outputs": [
    {
     "name": "stdout",
     "output_type": "stream",
     "text": [
      "0\n",
      "2\n",
      "4\n",
      "6\n",
      "8\n"
     ]
    }
   ],
   "source": [
    "for desde in range (0,10,2):\n",
    "    print (desde)"
   ]
  },
  {
   "cell_type": "code",
   "execution_count": 40,
   "metadata": {},
   "outputs": [
    {
     "ename": "TypeError",
     "evalue": "Funcion_imc() missing 1 required positional argument: 'altura'",
     "output_type": "error",
     "traceback": [
      "\u001b[1;31m---------------------------------------------------------------------------\u001b[0m",
      "\u001b[1;31mTypeError\u001b[0m                                 Traceback (most recent call last)",
      "\u001b[1;32m<ipython-input-40-4e336c4ce921>\u001b[0m in \u001b[0;36m<module>\u001b[1;34m()\u001b[0m\n\u001b[0;32m      8\u001b[0m     \u001b[1;32melse\u001b[0m\u001b[1;33m:\u001b[0m\u001b[1;33m\u001b[0m\u001b[0m\n\u001b[0;32m      9\u001b[0m         \u001b[0mprint\u001b[0m \u001b[1;33m(\u001b[0m\u001b[1;34m\"muy alto\"\u001b[0m\u001b[1;33m)\u001b[0m\u001b[1;33m\u001b[0m\u001b[0m\n\u001b[1;32m---> 10\u001b[1;33m \u001b[0mFuncion_imc\u001b[0m \u001b[1;33m(\u001b[0m\u001b[1;36m19\u001b[0m\u001b[1;33m)\u001b[0m\u001b[1;33m\u001b[0m\u001b[0m\n\u001b[0m",
      "\u001b[1;31mTypeError\u001b[0m: Funcion_imc() missing 1 required positional argument: 'altura'"
     ]
    }
   ],
   "source": [
    "def Funcion (x):\n",
    "    if 25 >= x and x >= 0:\n",
    "        print (\"bajo\")\n",
    "    elif 29 >= x >= 26:\n",
    "        print (\"medio\")\n",
    "    elif 35 >= x >= 30:\n",
    "        print (\"alto\")\n",
    "    else:\n",
    "        print (\"muy alto\")\n",
    "Funcion_imc (19)"
   ]
  },
  {
   "cell_type": "code",
   "execution_count": null,
   "metadata": {
    "collapsed": true
   },
   "outputs": [],
   "source": []
  }
 ],
 "metadata": {
  "kernelspec": {
   "display_name": "Python 3",
   "language": "python",
   "name": "python3"
  },
  "language_info": {
   "codemirror_mode": {
    "name": "ipython",
    "version": 3
   },
   "file_extension": ".py",
   "mimetype": "text/x-python",
   "name": "python",
   "nbconvert_exporter": "python",
   "pygments_lexer": "ipython3",
   "version": "3.6.1"
  }
 },
 "nbformat": 4,
 "nbformat_minor": 2
}
