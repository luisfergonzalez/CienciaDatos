{
 "cells": [
  {
   "cell_type": "code",
   "execution_count": 4,
   "metadata": {},
   "outputs": [
    {
     "name": "stdout",
     "output_type": "stream",
     "text": [
      "menor de edad\n"
     ]
    }
   ],
   "source": [
    "edadAlumno= 17\n",
    "if edadAlumno >= 18:\n",
    "    print(\"mayor de edad\")\n",
    "else:\n",
    "        print(\"menor de edad\")\n",
    "    \n"
   ]
  },
  {
   "cell_type": "code",
   "execution_count": 28,
   "metadata": {},
   "outputs": [
    {
     "name": "stdout",
     "output_type": "stream",
     "text": [
      "es mayor de edad y es mujer\n"
     ]
    }
   ],
   "source": [
    "generoAlumno=\"F\"\n",
    "edadAlumno= 18\n",
    "if edadAlumno >=18:\n",
    "    if generoAlumno ==\"F\":\n",
    "        print(\"es mayor de edad y es mujer\")\n",
    "    else:\n",
    "        print(\"es mayor de edad pero no es mujer\")\n",
    "else:\n",
    "    print:(\"es menor de edad\")"
   ]
  },
  {
   "cell_type": "code",
   "execution_count": 27,
   "metadata": {},
   "outputs": [
    {
     "name": "stdout",
     "output_type": "stream",
     "text": [
      "es mayor de edad, es mujer y vive en: medellinsu genero: F\n"
     ]
    }
   ],
   "source": [
    "generoAlumno=\"F\"\n",
    "edadAlumno= 18\n",
    "municipio=\"medellin\"\n",
    "if edadAlumno >=18 and generoAlumno==\"F\" or municipio==\" medellin\":\n",
    "    print(\"es mayor de edad, es mujer y vive en: \"+ str(municipio) + \"su genero: \"+generoAlumno)      \n",
    "else:\n",
    "    print:(\"es menor de edad\")"
   ]
  },
  {
   "cell_type": "code",
   "execution_count": 20,
   "metadata": {},
   "outputs": [
    {
     "name": "stdout",
     "output_type": "stream",
     "text": [
      "0\n",
      "1\n",
      "2\n",
      "3\n",
      "4\n",
      "5\n",
      "6\n",
      "7\n",
      "8\n",
      "9\n",
      "10\n"
     ]
    }
   ],
   "source": [
    "contador = 0\n",
    "while contador <= 10:\n",
    "    print(contador)\n",
    "    contador +=1"
   ]
  },
  {
   "cell_type": "code",
   "execution_count": 32,
   "metadata": {},
   "outputs": [
    {
     "name": "stdout",
     "output_type": "stream",
     "text": [
      "1\n",
      "2\n",
      "3\n",
      "4\n",
      "5\n",
      "7\n",
      "8\n",
      "9\n",
      "10\n",
      "11\n"
     ]
    }
   ],
   "source": [
    "listaNumeros=[1,2,3,4,5,7,8,9,10,11]\n",
    "for numero in listaNumeros:\n",
    "    print(numero)"
   ]
  },
  {
   "cell_type": "code",
   "execution_count": 48,
   "metadata": {},
   "outputs": [
    {
     "name": "stdout",
     "output_type": "stream",
     "text": [
      "el numero impar y es:1\n",
      "el numero es par y es el: 2\n",
      "el numero impar y es:3\n",
      "el numero es par y es el: 4\n",
      "el numero impar y es:5\n",
      "el numero es divisible por 5 y es:5\n",
      "el numero impar y es:7\n",
      "el numero es par y es el: 8\n",
      "el numero impar y es:9\n",
      "el numero es par y es el: 10\n",
      "el numero es divisible por 5 y es:10\n",
      "el numero impar y es:11\n"
     ]
    }
   ],
   "source": [
    "for numero in listaNumeros:\n",
    "    if numero % 2 == 0:\n",
    "        print(\"el numero es par y es el: \"+ str(numero))\n",
    "    if numero % 2 != 0:\n",
    "              print(\"el numero impar y es:\"+ str(numero))\n",
    "    if numero % 5 ==0:\n",
    "              print (\"el numero es divisible por 5 y es:\" + str(numero))\n",
    "              \n",
    "    "
   ]
  },
  {
   "cell_type": "markdown",
   "metadata": {},
   "source": [
    "# continue"
   ]
  },
  {
   "cell_type": "code",
   "execution_count": 50,
   "metadata": {},
   "outputs": [
    {
     "name": "stdout",
     "output_type": "stream",
     "text": [
      "1\n",
      "3\n",
      "5\n",
      "7\n",
      "9\n",
      "11\n"
     ]
    }
   ],
   "source": [
    "for numero in listaNumeros:\n",
    "    if numero %2==0:\n",
    "        continue\n",
    "    else:\n",
    "        print(numero)"
   ]
  },
  {
   "cell_type": "markdown",
   "metadata": {},
   "source": [
    "# break"
   ]
  },
  {
   "cell_type": "code",
   "execution_count": 51,
   "metadata": {},
   "outputs": [
    {
     "name": "stdout",
     "output_type": "stream",
     "text": [
      "1\n",
      "2\n"
     ]
    }
   ],
   "source": [
    "for numero in listaNumeros:\n",
    "    if numero %3 ==0:\n",
    "        break\n",
    "    else:\n",
    "        print(numero)"
   ]
  },
  {
   "cell_type": "code",
   "execution_count": null,
   "metadata": {
    "collapsed": true
   },
   "outputs": [],
   "source": []
  }
 ],
 "metadata": {
  "kernelspec": {
   "display_name": "Python 3",
   "language": "python",
   "name": "python3"
  },
  "language_info": {
   "codemirror_mode": {
    "name": "ipython",
    "version": 3
   },
   "file_extension": ".py",
   "mimetype": "text/x-python",
   "name": "python",
   "nbconvert_exporter": "python",
   "pygments_lexer": "ipython3",
   "version": "3.6.1"
  }
 },
 "nbformat": 4,
 "nbformat_minor": 2
}
