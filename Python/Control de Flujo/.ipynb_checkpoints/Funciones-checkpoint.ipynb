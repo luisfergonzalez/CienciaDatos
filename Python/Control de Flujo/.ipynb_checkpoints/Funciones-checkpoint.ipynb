{
 "cells": [
  {
   "cell_type": "markdown",
   "metadata": {},
   "source": [
    "# funciones"
   ]
  },
  {
   "cell_type": "code",
   "execution_count": 2,
   "metadata": {},
   "outputs": [
    {
     "name": "stdout",
     "output_type": "stream",
     "text": [
      "hola mundo\n"
     ]
    }
   ],
   "source": [
    "def miFuncion():\n",
    "    print(\"hola mundo\")\n",
    "miFuncion()"
   ]
  },
  {
   "cell_type": "code",
   "execution_count": 3,
   "metadata": {},
   "outputs": [
    {
     "name": "stdout",
     "output_type": "stream",
     "text": [
      "hola! lucho\n"
     ]
    }
   ],
   "source": [
    "def SaludoPersonalizado(nombre):\n",
    "    print(\"hola!\",nombre)\n",
    "SaludoPersonalizado(\"lucho\")"
   ]
  },
  {
   "cell_type": "code",
   "execution_count": 4,
   "metadata": {},
   "outputs": [
    {
     "name": "stdout",
     "output_type": "stream",
     "text": [
      "hola! maria\n",
      "hola! jose\n",
      "hola! daniela\n"
     ]
    }
   ],
   "source": [
    "SaludoPersonalizado(\"maria\")\n",
    "SaludoPersonalizado(\"jose\")\n",
    "SaludoPersonalizado(\"daniela\")"
   ]
  },
  {
   "cell_type": "code",
   "execution_count": 7,
   "metadata": {},
   "outputs": [
    {
     "name": "stdout",
     "output_type": "stream",
     "text": [
      "hola! mario\n"
     ]
    }
   ],
   "source": [
    "def SaludoConFuncion(funcion,nombre):\n",
    "    funcion(nombre)\n",
    "SaludoConFuncion(SaludoPersonalizado, \"mario\")"
   ]
  },
  {
   "cell_type": "code",
   "execution_count": 8,
   "metadata": {},
   "outputs": [
    {
     "data": {
      "text/plain": [
       "8"
      ]
     },
     "execution_count": 8,
     "metadata": {},
     "output_type": "execute_result"
    }
   ],
   "source": [
    "def ElevarPotencia(numero,potencia):\n",
    "    return numero ** potencia\n",
    "ElevarPotencia(2,3)\n"
   ]
  },
  {
   "cell_type": "code",
   "execution_count": 28,
   "metadata": {},
   "outputs": [
    {
     "name": "stdout",
     "output_type": "stream",
     "text": [
      "6\n"
     ]
    }
   ],
   "source": [
    "def MiFuncionDetener(numero):\n",
    "    if numero is None:\n",
    "        return\n",
    "    else:\n",
    "        print(numero)\n",
    "numero = 6\n",
    "MiFuncionDetener(numero)"
   ]
  },
  {
   "cell_type": "code",
   "execution_count": 25,
   "metadata": {},
   "outputs": [],
   "source": [
    "def NumeroPrimo(numero):\n",
    "    if numero % numero != 0 and numero%1 ==0:\n",
    "        return numero\n",
    "  \n",
    "numero= 7\n",
    "NumeroPrimo(numero)"
   ]
  },
  {
   "cell_type": "code",
   "execution_count": 33,
   "metadata": {},
   "outputs": [],
   "source": [
    "contador=0\n",
    "listaNumeros=[1,2,3,4,5,7,8,9,10,11]\n",
    "for numero in listaNumeros:\n",
    "    if (numero % numero == 0) and (numero%1 ==0):\n",
    "        print(\"el numero primo es:\"+str(numero))"
   ]
  },
  {
   "cell_type": "code",
   "execution_count": null,
   "metadata": {
    "collapsed": true
   },
   "outputs": [],
   "source": []
  },
  {
   "cell_type": "code",
   "execution_count": null,
   "metadata": {
    "collapsed": true
   },
   "outputs": [],
   "source": []
  }
 ],
 "metadata": {
  "kernelspec": {
   "display_name": "Python 3",
   "language": "python",
   "name": "python3"
  },
  "language_info": {
   "codemirror_mode": {
    "name": "ipython",
    "version": 3
   },
   "file_extension": ".py",
   "mimetype": "text/x-python",
   "name": "python",
   "nbconvert_exporter": "python",
   "pygments_lexer": "ipython3",
   "version": "3.6.1"
  }
 },
 "nbformat": 4,
 "nbformat_minor": 2
}
